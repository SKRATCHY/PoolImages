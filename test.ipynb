{
 "cells": [
  {
   "cell_type": "markdown",
   "metadata": {},
   "source": [
    "#### Library and image loading"
   ]
  },
  {
   "cell_type": "code",
   "execution_count": 1,
   "metadata": {},
   "outputs": [],
   "source": [
    "# Installing mask model\n",
    "!pip install -qr https://huggingface.co/briaai/RMBG-1.4/resolve/main/requirements.txt"
   ]
  },
  {
   "cell_type": "code",
   "execution_count": null,
   "metadata": {},
   "outputs": [],
   "source": [
    "# Removing background\n",
    "from transformers import pipeline\n",
    "image_path = \"500434410-800x600.webp\"\n",
    "pipe = pipeline(\"image-segmentation\", model=\"briaai/RMBG-1.4\", trust_remote_code=True)\n",
    "pillow_mask = pipe(image_path, return_mask = True) # outputs a pillow mask\n",
    "pillow_image = pipe(image_path)\n",
    "pillow_image.save(\"pillow_image.png\")"
   ]
  },
  {
   "cell_type": "code",
   "execution_count": 6,
   "metadata": {},
   "outputs": [],
   "source": [
    "import matplotlib.pyplot as plt"
   ]
  },
  {
   "cell_type": "code",
   "execution_count": null,
   "metadata": {},
   "outputs": [],
   "source": [
    "plt.imshow(pillow_image)"
   ]
  },
  {
   "cell_type": "markdown",
   "metadata": {},
   "source": [
    "#### Creating mask_image"
   ]
  },
  {
   "cell_type": "code",
   "execution_count": 21,
   "metadata": {},
   "outputs": [],
   "source": [
    "from PIL import Image\n",
    "\n",
    "# Extract the alpha channel (transparency)\n",
    "alpha = pillow_image.getchannel(\"A\")\n",
    "\n",
    "# Create a binary mask from the alpha channel\n",
    "mask = alpha.point(lambda p: 0 if p > 0 else 255)  # White for subject, black for background\n",
    "\n",
    "# Save and display the mask image\n",
    "mask.save(\"mask_image.png\")\n",
    "mask.show()"
   ]
  },
  {
   "cell_type": "markdown",
   "metadata": {},
   "source": [
    "#### Generating background"
   ]
  },
  {
   "cell_type": "code",
   "execution_count": null,
   "metadata": {},
   "outputs": [],
   "source": [
    "from PIL import Image\n",
    "from diffusers import StableDiffusionInpaintPipeline\n",
    "\n",
    "# Load the pipeline\n",
    "#Takes a lot the first time\n",
    "pipe = StableDiffusionInpaintPipeline.from_pretrained(\"runwayml/stable-diffusion-inpainting\")\n",
    "#pipe = pipe.to(\"cuda\")  # Use \"cpu\" if GPU is not available uncomment this if you have CUDA gpu power\n",
    "\n",
    "# Load the input image and mask\n",
    "image = Image.open(\"pillow_image.png\").convert(\"RGB\")\n",
    "mask = Image.open(\"mask_image.png\").convert(\"RGB\")\n",
    "\n",
    "# Ensure the mask and image are the same size\n",
    "if image.size != mask.size:\n",
    "    mask = mask.resize(image.size, Image.NEAREST)\n",
    "\n",
    "# Perform inpainting\n",
    "result = pipe(prompt=\"Huge palace on bel air\", image=image, mask_image=mask).images[0]\n",
    "\n",
    "# Save and display the result\n",
    "result.save(\"output.jpg\")\n",
    "result.show()"
   ]
  }
 ],
 "metadata": {
  "kernelspec": {
   "display_name": "venv",
   "language": "python",
   "name": "python3"
  },
  "language_info": {
   "codemirror_mode": {
    "name": "ipython",
    "version": 3
   },
   "file_extension": ".py",
   "mimetype": "text/x-python",
   "name": "python",
   "nbconvert_exporter": "python",
   "pygments_lexer": "ipython3",
   "version": "3.12.8"
  }
 },
 "nbformat": 4,
 "nbformat_minor": 2
}
